{
  "nbformat": 4,
  "nbformat_minor": 0,
  "metadata": {
    "colab": {
      "provenance": [],
      "machine_shape": "hm",
      "collapsed_sections": [
        "GzuFk-LWIay0"
      ]
    },
    "kernelspec": {
      "name": "python3",
      "display_name": "Python 3"
    },
    "language_info": {
      "name": "python"
    }
  },
  "cells": [
    {
      "cell_type": "code",
      "execution_count": null,
      "metadata": {
        "colab": {
          "base_uri": "https://localhost:8080/"
        },
        "id": "wRfcxqDjEspN",
        "outputId": "c9d08333-3642-4016-a5a6-3bc5d2c70124"
      },
      "outputs": [
        {
          "output_type": "stream",
          "name": "stdout",
          "text": [
            "Mounted at /content/drive\n"
          ]
        }
      ],
      "source": [
        "from google.colab import drive\n",
        "drive.mount('/content/drive')"
      ]
    },
    {
      "cell_type": "code",
      "source": [
        "import pandas as pd\n",
        "from collections import Counter\n",
        "\n",
        "train_path = '/content/drive/My Drive/big-data-analytics-2025/train.csv'\n",
        "test_path = '/content/drive/My Drive/big-data-analytics-2025/test_without_labels.csv'\n",
        "\n",
        "train_df = pd.read_csv(train_path)\n",
        "test_df  = pd.read_csv(test_path)"
      ],
      "metadata": {
        "id": "YZ_zcRzlHEFm"
      },
      "execution_count": null,
      "outputs": []
    },
    {
      "cell_type": "markdown",
      "source": [
        "#Initial Analysis"
      ],
      "metadata": {
        "id": "GzuFk-LWIay0"
      }
    },
    {
      "cell_type": "code",
      "source": [
        "print(train_df.head())"
      ],
      "metadata": {
        "colab": {
          "base_uri": "https://localhost:8080/"
        },
        "id": "RmZgyZnEHM8T",
        "outputId": "1b3841f9-6543-4098-e76b-4cbd47bc896f"
      },
      "execution_count": null,
      "outputs": [
        {
          "output_type": "stream",
          "name": "stdout",
          "text": [
            "       Id                                              Title  \\\n",
            "0  227464  Netflix is coming to cable boxes, and Amazon i...   \n",
            "1  244074  Pharrell, Iranian President React to Tehran 'H...   \n",
            "2   60707                    Wildlife service seeks comments   \n",
            "3   27883  Facebook teams up with Storyful to launch 'FB ...   \n",
            "4  169596           Caesars plans US$880 mln New York casino   \n",
            "\n",
            "                                             Content          Label  \n",
            "0   if you subscribe to one of three rinky-dink (...  Entertainment  \n",
            "1   pharrell, iranian president react to tehran '...  Entertainment  \n",
            "2   the u.s. fish and wildlife service has reopen...     Technology  \n",
            "3   the very nature of social media means it is o...     Technology  \n",
            "4   caesars plans us$880 mln new york casino jul ...       Business  \n"
          ]
        }
      ]
    },
    {
      "cell_type": "code",
      "source": [
        "category_proportions= train_df['Label'].value_counts(normalize=True)"
      ],
      "metadata": {
        "id": "V4Sxp5CPH2xK"
      },
      "execution_count": null,
      "outputs": []
    },
    {
      "cell_type": "code",
      "source": [
        "print(category_proportions)"
      ],
      "metadata": {
        "colab": {
          "base_uri": "https://localhost:8080/"
        },
        "id": "2vG80l-vI3fh",
        "outputId": "e61648c8-0b79-4b57-847b-5fda984834cd"
      },
      "execution_count": null,
      "outputs": [
        {
          "output_type": "stream",
          "name": "stdout",
          "text": [
            "Label\n",
            "Entertainment    0.401038\n",
            "Technology       0.269305\n",
            "Business         0.222139\n",
            "Health           0.107518\n",
            "Name: proportion, dtype: float64\n"
          ]
        }
      ]
    },
    {
      "cell_type": "code",
      "source": [
        "import matplotlib.pyplot as plt\n",
        "import seaborn as sns\n",
        "sns.countplot(x='Label', data=train_df)\n",
        "plt.show()"
      ],
      "metadata": {
        "colab": {
          "base_uri": "https://localhost:8080/",
          "height": 449
        },
        "outputId": "5a729fa9-d03b-4338-a143-8d667e2e779c",
        "id": "9EiusQl8JaZ_"
      },
      "execution_count": null,
      "outputs": [
        {
          "output_type": "display_data",
          "data": {
            "text/plain": [
              "<Figure size 640x480 with 1 Axes>"
            ],
            "image/png": "[encoded data removed]"
          },
          "metadata": {}
        }
      ]
    },
    {
      "cell_type": "code",
      "source": [
        "# Analyze text length distributions\n",
        "train_df['title_length'] = train_df['Title'].str.len()\n",
        "train_df['content_length'] = train_df['Content'].str.len()\n",
        "\n",
        "# Summary statistics\n",
        "basic_stats = pd.DataFrame({\n",
        "    'Title Length': [\n",
        "        train_df['title_length'].count(),\n",
        "        train_df['title_length'].mean(),\n",
        "        train_df['title_length'].min(),\n",
        "        train_df['title_length'].max()\n",
        "    ],\n",
        "    'Content Length': [\n",
        "        train_df['content_length'].count(),\n",
        "        train_df['content_length'].mean(),\n",
        "        train_df['content_length'].min(),\n",
        "        train_df['content_length'].max()\n",
        "    ]\n",
        "}, index=['Count', 'Mean', 'Min', 'Max']).round(2)\n",
        "\n",
        "print(\"\\nBasic Text Length Statistics:\")\n",
        "print(basic_stats)\n",
        "\n",
        "# Average lengths by category\n",
        "print(\"\\nAverage lengths by category:\")\n",
        "category_stats = train_df.groupby('Label').agg({\n",
        "    'title_length': ['mean'],\n",
        "    'content_length': ['mean']\n",
        "}).round(2)\n",
        "print(category_stats)"
      ],
      "metadata": {
        "colab": {
          "base_uri": "https://localhost:8080/"
        },
        "id": "DSVUiYpYO-SP",
        "outputId": "61c00bcc-0ed4-45e0-b55d-3aeb5b2b7c55"
      },
      "execution_count": null,
      "outputs": [
        {
          "output_type": "stream",
          "name": "stdout",
          "text": [
            "\n",
            "Basic Text Length Statistics:\n",
            "       Title Length  Content Length\n",
            "Count     111795.00       111795.00\n",
            "Mean          59.22         2539.79\n",
            "Min            5.00           16.00\n",
            "Max        24929.00        78614.00\n",
            "\n",
            "Average lengths by category:\n",
            "              title_length content_length\n",
            "                      mean           mean\n",
            "Label                                    \n",
            "Business             55.84        2816.13\n",
            "Entertainment        61.51        2328.11\n",
            "Health               56.89        2683.91\n",
            "Technology           59.55        2569.54\n"
          ]
        }
      ]
    },
    {
      "cell_type": "code",
      "source": [
        "word_counts = train_df['Content'].apply(lambda text: Counter(text.lower().split()))"
      ],
      "metadata": {
        "id": "ujESBb9MKzMG"
      },
      "execution_count": null,
      "outputs": []
    },
    {
      "cell_type": "code",
      "source": [
        "all_word_counts = Counter()\n",
        "for word_count in word_counts:\n",
        "    all_word_counts.update(word_count)\n",
        "most_common_words = all_word_counts.most_common(30)\n",
        "words,freqs = zip(*most_common_words)\n",
        "plt.figure(figsize=(10, 6))\n",
        "sns.barplot(x=list(words), y=list(freqs))\n",
        "plt.xticks(rotation=45)\n",
        "plt.show()"
      ],
      "metadata": {
        "colab": {
          "base_uri": "https://localhost:8080/",
          "height": 557
        },
        "id": "3tU1HvjeLKxb",
        "outputId": "cb71871e-b48e-4b15-88a6-d87c998f6077"
      },
      "execution_count": null,
      "outputs": [
        {
          "output_type": "display_data",
          "data": {
            "text/plain": [
              "<Figure size 1000x600 with 1 Axes>"
            ],
            "image/png": "[encoded data removed]"
          },
          "metadata": {}
        }
      ]
    },
    {
      "cell_type": "code",
      "source": [
        "train_df.isnull().sum()"
      ],
      "metadata": {
        "colab": {
          "base_uri": "https://localhost:8080/",
          "height": 210
        },
        "id": "2CTSkuSPQKJ3",
        "outputId": "ee59e60a-61ad-421a-bc4a-b176c6e27329"
      },
      "execution_count": null,
      "outputs": [
        {
          "output_type": "execute_result",
          "data": {
            "text/plain": [
              "Id         0\n",
              "Title      0\n",
              "Content    0\n",
              "Label      0\n",
              "dtype: int64"
            ],
            "text/html": [
              "<div>\n",
              "<style scoped>\n",
              "    .dataframe tbody tr th:only-of-type {\n",
              "        vertical-align: middle;\n",
              "    }\n",
              "\n",
              "    .dataframe tbody tr th {\n",
              "        vertical-align: top;\n",
              "    }\n",
              "\n",
              "    .dataframe thead th {\n",
              "        text-align: right;\n",
              "    }\n",
              "</style>\n",
              "<table border=\"1\" class=\"dataframe\">\n",
              "  <thead>\n",
              "    <tr style=\"text-align: right;\">\n",
              "      <th></th>\n",
              "      <th>0</th>\n",
              "    </tr>\n",
              "  </thead>\n",
              "  <tbody>\n",
              "    <tr>\n",
              "      <th>Id</th>\n",
              "      <td>0</td>\n",
              "    </tr>\n",
              "    <tr>\n",
              "      <th>Title</th>\n",
              "      <td>0</td>\n",
              "    </tr>\n",
              "    <tr>\n",
              "      <th>Content</th>\n",
              "      <td>0</td>\n",
              "    </tr>\n",
              "    <tr>\n",
              "      <th>Label</th>\n",
              "      <td>0</td>\n",
              "    </tr>\n",
              "  </tbody>\n",
              "</table>\n",
              "</div><br><label><b>dtype:</b> int64</label>"
            ]
          },
          "metadata": {},
          "execution_count": 9
        }
      ]
    },
    {
      "cell_type": "code",
      "source": [
        "test_df.isnull().sum()"
      ],
      "metadata": {
        "colab": {
          "base_uri": "https://localhost:8080/",
          "height": 178
        },
        "id": "y0OFp8hsIrDG",
        "outputId": "23f056bb-8800-4af9-9e8d-e754c4ee1954"
      },
      "execution_count": null,
      "outputs": [
        {
          "output_type": "execute_result",
          "data": {
            "text/plain": [
              "Id         0\n",
              "Title      0\n",
              "Content    0\n",
              "dtype: int64"
            ],
            "text/html": [
              "<div>\n",
              "<style scoped>\n",
              "    .dataframe tbody tr th:only-of-type {\n",
              "        vertical-align: middle;\n",
              "    }\n",
              "\n",
              "    .dataframe tbody tr th {\n",
              "        vertical-align: top;\n",
              "    }\n",
              "\n",
              "    .dataframe thead th {\n",
              "        text-align: right;\n",
              "    }\n",
              "</style>\n",
              "<table border=\"1\" class=\"dataframe\">\n",
              "  <thead>\n",
              "    <tr style=\"text-align: right;\">\n",
              "      <th></th>\n",
              "      <th>0</th>\n",
              "    </tr>\n",
              "  </thead>\n",
              "  <tbody>\n",
              "    <tr>\n",
              "      <th>Id</th>\n",
              "      <td>0</td>\n",
              "    </tr>\n",
              "    <tr>\n",
              "      <th>Title</th>\n",
              "      <td>0</td>\n",
              "    </tr>\n",
              "    <tr>\n",
              "      <th>Content</th>\n",
              "      <td>0</td>\n",
              "    </tr>\n",
              "  </tbody>\n",
              "</table>\n",
              "</div><br><label><b>dtype:</b> int64</label>"
            ]
          },
          "metadata": {},
          "execution_count": 9
        }
      ]
    },
    {
      "cell_type": "markdown",
      "source": [
        "#Data preprocessing"
      ],
      "metadata": {
        "id": "w2qUWsdRSFTu"
      }
    },
    {
      "cell_type": "code",
      "source": [
        "import nltk\n",
        "import tqdm\n",
        "from nltk.tokenize import word_tokenize\n",
        "from nltk.stem import WordNetLemmatizer\n",
        "from nltk.corpus import stopwords\n",
        "import re\n",
        "from collections import Counter\n",
        "nltk.download('stopwords')\n",
        "nltk.download('punkt_tab')\n",
        "nltk.download('wordnet')"
      ],
      "metadata": {
        "id": "jvqeI9tLd3KM",
        "colab": {
          "base_uri": "https://localhost:8080/"
        },
        "outputId": "3bd8fd43-8135-40e0-bbf2-f86c46e464cb"
      },
      "execution_count": null,
      "outputs": [
        {
          "output_type": "stream",
          "name": "stderr",
          "text": [
            "[nltk_data] Downloading package stopwords to /root/nltk_data...\n",
            "[nltk_data]   Unzipping corpora/stopwords.zip.\n",
            "[nltk_data] Downloading package punkt_tab to /root/nltk_data...\n",
            "[nltk_data]   Unzipping tokenizers/punkt_tab.zip.\n",
            "[nltk_data] Downloading package wordnet to /root/nltk_data...\n"
          ]
        },
        {
          "output_type": "execute_result",
          "data": {
            "text/plain": [
              "True"
            ]
          },
          "metadata": {},
          "execution_count": 3
        }
      ]
    },
    {
      "cell_type": "code",
      "source": [
        "lemmatizer = WordNetLemmatizer()\n",
        "stop_words = set(stopwords.words('english'))\n",
        "\n",
        "def process_text(text):\n",
        "    text = text.lower()\n",
        "    text = re.sub(r'http\\S+|www\\S+', ' ', text)\n",
        "    text = re.sub(r'([.,!?()])', r' \\1 ', text)\n",
        "    text = re.sub(r'\\s+', ' ', text)\n",
        "    text = re.sub(r'[^a-zA-Z\\s]', ' ', text)\n",
        "    tokens = word_tokenize(text)\n",
        "    tokens = [lemmatizer.lemmatize(token)\n",
        "             for token in tokens\n",
        "             if token not in stop_words and len(token) > 2]\n",
        "    return ' '.join(tokens)"
      ],
      "metadata": {
        "id": "EqOciKWDjBBx"
      },
      "execution_count": null,
      "outputs": []
    },
    {
      "cell_type": "code",
      "source": [
        "train_titles = train_df['Title'].apply(process_text)\n",
        "train_content = train_df['Content'].apply(process_text)\n",
        "test_titles = test_df['Title'].apply(process_text)\n",
        "test_content = test_df['Content'].apply(process_text)"
      ],
      "metadata": {
        "id": "p8dttVIBDSPx"
      },
      "execution_count": null,
      "outputs": []
    },
    {
      "cell_type": "code",
      "source": [
        "from sklearn.preprocessing import LabelEncoder\n",
        "from sklearn.feature_extraction.text import CountVectorizer\n",
        "from sklearn.feature_selection import SelectKBest, chi2\n",
        "\n",
        "\n",
        "train_text = train_titles + \" \" + train_content\n",
        "test_text = test_titles + \" \" + test_content\n",
        "\n",
        "label_encoder = LabelEncoder()\n",
        "y = label_encoder.fit_transform(train_df['Label'])\n",
        "\n",
        "vectorizer = CountVectorizer(binary=True)\n",
        "train_vectors = vectorizer.fit_transform(train_text)\n",
        "test_vectors = vectorizer.transform(test_text)\n",
        "\n",
        "selector = SelectKBest(chi2, k=5000)\n",
        "final_features = selector.fit_transform(train_vectors, y)\n",
        "test_final_features = selector.transform(test_vectors)"
      ],
      "metadata": {
        "id": "Z5wNbNLV9NI5"
      },
      "execution_count": null,
      "outputs": []
    },
    {
      "cell_type": "code",
      "source": [
        "from sklearn.metrics import make_scorer, precision_score, recall_score, f1_score\n",
        "scoring = {\n",
        "    'accuracy': 'accuracy',\n",
        "    'precision_micro': make_scorer(precision_score, average='micro'),\n",
        "    'precision_macro': make_scorer(precision_score, average='macro'),\n",
        "    'precision_weighted': make_scorer(precision_score, average='weighted'),\n",
        "    'recall_micro': make_scorer(recall_score, average='micro'),\n",
        "    'recall_macro': make_scorer(recall_score, average='macro'),\n",
        "    'recall_weighted': make_scorer(recall_score, average='weighted'),\n",
        "    'f1_micro': make_scorer(f1_score, average='micro'),\n",
        "    'f1_macro': make_scorer(f1_score, average='macro'),\n",
        "    'f1_weighted': make_scorer(f1_score, average='weighted')\n",
        "}"
      ],
      "metadata": {
        "id": "bQNR6p8nDFWG"
      },
      "execution_count": null,
      "outputs": []
    },
    {
      "cell_type": "markdown",
      "source": [
        "#Support Vector Machines"
      ],
      "metadata": {
        "id": "qQ7JxQpxirRB"
      }
    },
    {
      "cell_type": "code",
      "source": [
        "from sklearn.model_selection import GridSearchCV\n",
        "from sklearn.linear_model import SGDClassifier\n",
        "from sklearn.model_selection import cross_validate,StratifiedKFold\n",
        "from sklearn.preprocessing import StandardScaler\n",
        "from sklearn.pipeline import make_pipeline\n",
        "\n",
        "param_grid = {\n",
        "    'sgdclassifier__alpha': [0.01, 0.05, 0.1],\n",
        "    'sgdclassifier__loss': ['hinge'],  # keep hinge for SVM\n",
        "    'sgdclassifier__max_iter': [ 150, 200],\n",
        "    'sgdclassifier__tol': [1e-3, 6e-4, 1e-4, 6e-5],\n",
        "    'sgdclassifier__learning_rate': ['optimal']\n",
        "}\n",
        "\n",
        "# Create pipeline\n",
        "sgd_pipeline = make_pipeline(\n",
        "    StandardScaler(with_mean=False),\n",
        "    SGDClassifier(random_state=42, class_weight='balanced')\n",
        ")\n",
        "\n",
        "\n",
        "stratified_kfold = StratifiedKFold(n_splits=5)\n",
        "svm_grid_search = GridSearchCV(\n",
        "    sgd_pipeline,\n",
        "    param_grid,\n",
        "    cv=stratified_kfold,\n",
        "    scoring=scoring,\n",
        "    n_jobs=-1,\n",
        "    verbose=2,\n",
        "    refit='accuracy'\n",
        ")\n",
        "\n",
        "# Fit grid search\n",
        "svm_grid_search.fit(final_features, y)\n",
        "print(\"Best parameters:\", svm_grid_search.best_params_)\n",
        "print(\"\\nBest model scores:\")\n",
        "for metric in scoring.keys():\n",
        "    print(f\"Mean {metric.replace('_', ' ').title()}: {svm_grid_search.cv_results_[f'mean_test_{metric}'][svm_grid_search.best_index_]:.3f}\")"
      ],
      "metadata": {
        "id": "BF6s_5BjMTlT",
        "colab": {
          "base_uri": "https://localhost:8080/"
        },
        "outputId": "53744930-60bb-43c7-a2df-4a9e70245312"
      },
      "execution_count": null,
      "outputs": [
        {
          "output_type": "stream",
          "name": "stdout",
          "text": [
            "Fitting 5 folds for each of 24 candidates, totalling 120 fits\n",
            "Best parameters: {'sgdclassifier__alpha': 0.05, 'sgdclassifier__learning_rate': 'optimal', 'sgdclassifier__loss': 'hinge', 'sgdclassifier__max_iter': 150, 'sgdclassifier__tol': 0.0001}\n",
            "\n",
            "Best model scores:\n",
            "Mean Accuracy: 0.949\n",
            "Mean Precision Micro: 0.949\n",
            "Mean Precision Macro: 0.945\n",
            "Mean Precision Weighted: 0.949\n",
            "Mean Recall Micro: 0.949\n",
            "Mean Recall Macro: 0.946\n",
            "Mean Recall Weighted: 0.949\n",
            "Mean F1 Micro: 0.949\n",
            "Mean F1 Macro: 0.945\n",
            "Mean F1 Weighted: 0.949\n"
          ]
        }
      ]
    },
    {
      "cell_type": "code",
      "source": [
        "from sklearn.model_selection import cross_val_predict\n",
        "from sklearn.metrics import classification_report\n",
        "\n",
        "# Get cross-validated predictions using the best model\n",
        "y_pred = cross_val_predict(svm_grid_search.best_estimator_, final_features, y, cv=stratified_kfold)\n",
        "target_names = ['Entertainment', 'Technology', 'Business', 'Health']\n",
        "print(\"\\nDetailed Classification Report across all folds:\")\n",
        "print(classification_report(y, y_pred,target_names=target_names))"
      ],
      "metadata": {
        "id": "ZeheP8FIXwPq",
        "colab": {
          "base_uri": "https://localhost:8080/"
        },
        "outputId": "5bda4698-9f1d-4f0c-8d83-2613801061b9"
      },
      "execution_count": null,
      "outputs": [
        {
          "output_type": "stream",
          "name": "stdout",
          "text": [
            "\n",
            "Detailed Classification Report across all folds:\n",
            "               precision    recall  f1-score   support\n",
            "\n",
            "Entertainment       0.92      0.91      0.92     24834\n",
            "   Technology       0.98      0.98      0.98     44834\n",
            "     Business       0.95      0.96      0.96     12020\n",
            "       Health       0.93      0.94      0.93     30107\n",
            "\n",
            "     accuracy                           0.95    111795\n",
            "    macro avg       0.95      0.95      0.95    111795\n",
            " weighted avg       0.95      0.95      0.95    111795\n",
            "\n"
          ]
        }
      ]
    },
    {
      "cell_type": "markdown",
      "source": [
        "#Random Forests"
      ],
      "metadata": {
        "id": "D9BkLXmWivWg"
      }
    },
    {
      "cell_type": "code",
      "source": [
        "from sklearn.ensemble import RandomForestClassifier\n",
        "\n",
        "param_grid = {\n",
        "    'randomforestclassifier__n_estimators': [100, 200],\n",
        "    'randomforestclassifier__max_depth': [35],\n",
        "    'randomforestclassifier__class_weight': ['balanced']\n",
        "}\n",
        "\n",
        "# Create pipeline\n",
        "rf_pipeline = make_pipeline(\n",
        "    RandomForestClassifier(random_state=42, n_jobs=-1)\n",
        ")\n",
        "grid_search_rf = GridSearchCV(\n",
        "    rf_pipeline,\n",
        "    param_grid,\n",
        "    cv=stratified_kfold,\n",
        "    scoring=scoring,\n",
        "    n_jobs=-1,\n",
        "    verbose=2,\n",
        "    refit='accuracy'\n",
        ")\n",
        "\n",
        "grid_search_rf.fit(final_features, y)\n",
        "\n",
        "print(\"Best parameters:\", grid_search_rf.best_params_)\n",
        "print(\"\\nBest model scores:\")\n",
        "for metric in scoring.keys():\n",
        "    print(f\"Mean {metric.replace('_', ' ').title()}: {grid_search_rf.cv_results_[f'mean_test_{metric}'][grid_search_rf.best_index_]:.3f}\")"
      ],
      "metadata": {
        "id": "bMgz4Q1XVjy_",
        "colab": {
          "base_uri": "https://localhost:8080/"
        },
        "outputId": "22a598d9-5a5e-4442-c132-b1220d137a67"
      },
      "execution_count": null,
      "outputs": [
        {
          "output_type": "stream",
          "name": "stdout",
          "text": [
            "Fitting 5 folds for each of 2 candidates, totalling 10 fits\n",
            "Best parameters: {'randomforestclassifier__class_weight': 'balanced', 'randomforestclassifier__max_depth': 35, 'randomforestclassifier__n_estimators': 200}\n",
            "\n",
            "Best model scores:\n",
            "Mean Accuracy: 0.926\n",
            "Mean Precision Micro: 0.926\n",
            "Mean Precision Macro: 0.923\n",
            "Mean Precision Weighted: 0.925\n",
            "Mean Recall Micro: 0.926\n",
            "Mean Recall Macro: 0.919\n",
            "Mean Recall Weighted: 0.926\n",
            "Mean F1 Micro: 0.926\n",
            "Mean F1 Macro: 0.921\n",
            "Mean F1 Weighted: 0.925\n"
          ]
        }
      ]
    },
    {
      "cell_type": "code",
      "source": [
        "y_pred_rf = cross_val_predict(grid_search_rf.best_estimator_, final_features, y, cv=stratified_kfold)\n",
        "\n",
        "print(\"\\nDetailed Classification Report across all folds:\")\n",
        "print(classification_report(y, y_pred_rf,target_names=target_names))"
      ],
      "metadata": {
        "id": "w7zVI575h_Ly",
        "colab": {
          "base_uri": "https://localhost:8080/"
        },
        "outputId": "8c8aacc9-4242-4346-e6b1-8f1b81ce1745"
      },
      "execution_count": null,
      "outputs": [
        {
          "output_type": "stream",
          "name": "stdout",
          "text": [
            "\n",
            "Detailed Classification Report across all folds:\n",
            "               precision    recall  f1-score   support\n",
            "\n",
            "Entertainment       0.90      0.88      0.89     24834\n",
            "   Technology       0.94      0.97      0.96     44834\n",
            "     Business       0.93      0.93      0.93     12020\n",
            "       Health       0.91      0.90      0.91     30107\n",
            "\n",
            "     accuracy                           0.93    111795\n",
            "    macro avg       0.92      0.92      0.92    111795\n",
            " weighted avg       0.93      0.93      0.93    111795\n",
            "\n"
          ]
        }
      ]
    },
    {
      "cell_type": "markdown",
      "source": [
        "#KNN"
      ],
      "metadata": {
        "id": "XR4NBQ2TieXH"
      }
    },
    {
      "cell_type": "code",
      "source": [
        "from sklearn.neighbors import KNeighborsClassifier\n",
        "from sklearn.model_selection import StratifiedKFold, cross_validate, cross_val_predict\n",
        "from sklearn.pipeline import make_pipeline\n",
        "\n",
        "final_features_bool = final_features.astype(bool)\n",
        "test_final_features_bool = test_final_features.astype(bool)\n",
        "\n",
        "final_knn_pipeline = make_pipeline(\n",
        "    KNeighborsClassifier(\n",
        "        n_neighbors=7,\n",
        "        metric='jaccard',\n",
        "        n_jobs=-1\n",
        "    )\n",
        ")\n",
        "\n",
        "stratified_kfold = StratifiedKFold(n_splits=5)\n",
        "\n",
        "cv_scores_knn = cross_validate(\n",
        "    final_knn_pipeline,\n",
        "    final_features_bool.toarray(),\n",
        "    y,\n",
        "    cv=stratified_kfold,\n",
        "    scoring=scoring,\n",
        "    n_jobs=-1\n",
        ")\n",
        "\n",
        "print(\"\\nCross-validation scores on full dataset:\")\n",
        "for metric in scoring.keys():\n",
        "    print(f\"Mean {metric.replace('_', ' ').title()}: {cv_scores_knn[f'test_{metric}'].mean():.3f}\")\n",
        "\n",
        "y_pred_knn = cross_val_predict(final_knn_pipeline, final_features_bool.toarray(), y, cv=stratified_kfold)\n",
        "\n",
        "print(\"\\nDetailed Classification Report across all folds:\")\n",
        "print(classification_report(y, y_pred_knn,target_names=target_names))"
      ],
      "metadata": {
        "colab": {
          "base_uri": "https://localhost:8080/"
        },
        "id": "aeZANw0SnNR5",
        "outputId": "82f56928-9529-40c8-832f-3c453704d06c"
      },
      "execution_count": null,
      "outputs": [
        {
          "output_type": "stream",
          "name": "stdout",
          "text": [
            "\n",
            "Cross-validation scores on full dataset:\n",
            "Mean Accuracy: 0.963\n",
            "Mean Precision Micro: 0.963\n",
            "Mean Precision Macro: 0.962\n",
            "Mean Precision Weighted: 0.963\n",
            "Mean Recall Micro: 0.963\n",
            "Mean Recall Macro: 0.958\n",
            "Mean Recall Weighted: 0.963\n",
            "Mean F1 Micro: 0.963\n",
            "Mean F1 Macro: 0.960\n",
            "Mean F1 Weighted: 0.963\n",
            "\n",
            "Detailed Classification Report across all folds:\n",
            "               precision    recall  f1-score   support\n",
            "\n",
            "Entertainment       0.93      0.94      0.94     24834\n",
            "   Technology       0.98      0.99      0.98     44834\n",
            "     Business       0.98      0.95      0.96     12020\n",
            "       Health       0.96      0.95      0.95     30107\n",
            "\n",
            "     accuracy                           0.96    111795\n",
            "    macro avg       0.96      0.96      0.96    111795\n",
            " weighted avg       0.96      0.96      0.96    111795\n",
            "\n"
          ]
        }
      ]
    },
    {
      "cell_type": "markdown",
      "source": [
        "#Predict labels in test set using the best model"
      ],
      "metadata": {
        "id": "XNC3VzQY6SHE"
      }
    },
    {
      "cell_type": "code",
      "source": [
        "svm_accuracy = svm_grid_search.cv_results_['mean_test_accuracy'][svm_grid_search.best_index_]\n",
        "rf_accuracy = grid_search_rf.cv_results_['mean_test_accuracy'][grid_search_rf.best_index_]\n",
        "knn_accuracy = cv_scores_knn['test_accuracy'].mean()\n",
        "\n",
        "accuracies = {\n",
        "    'SVM': svm_accuracy,\n",
        "    'Random Forest': rf_accuracy,\n",
        "    'KNN': knn_accuracy\n",
        "}\n",
        "\n",
        "best_model_name = max(accuracies, key=accuracies.get)\n",
        "print(f\"\\nBest model is {best_model_name} with accuracy: {accuracies[best_model_name]:.3f}\")\n",
        "\n",
        "\n",
        "if best_model_name == 'SVM':\n",
        "    test_predictions = svm_grid_search.predict(test_final_features)\n",
        "elif best_model_name == 'Random Forest':\n",
        "    test_predictions = grid_search_rf.predict(test_final_features)\n",
        "else:  # KNN\n",
        "    # Fit the KNN pipeline with best parameters on full training data\n",
        "    final_knn_pipeline.fit(final_features_bool.toarray(), y)\n",
        "    test_predictions = final_knn_pipeline.predict(test_final_features_bool.toarray())\n",
        "\n",
        "predicted_labels = label_encoder.inverse_transform(test_predictions)\n",
        "\n",
        "output_df = pd.DataFrame({\n",
        "    'Id': test_df['Id'],\n",
        "    'Predicted': predicted_labels\n",
        "})\n",
        "\n",
        "output_df.to_csv('testSet_categories.csv', index=False)\n",
        "\n",
        "print(\"\\nPredictions have been saved to 'testSet_categories.csv'\")"
      ],
      "metadata": {
        "id": "w_wQwSygr5eR",
        "colab": {
          "base_uri": "https://localhost:8080/"
        },
        "outputId": "7c463bd0-8493-46bb-9416-884ead428f3e"
      },
      "execution_count": null,
      "outputs": [
        {
          "output_type": "stream",
          "name": "stdout",
          "text": [
            "\n",
            "Best model is KNN with accuracy: 0.963\n",
            "\n",
            "Predictions have been saved to 'testSet_categories.csv'\n"
          ]
        }
      ]
    },
    {
      "cell_type": "code",
      "source": [
        "output_df.to_csv('/content/drive/My Drive/testSet_categories.csv', index=False)"
      ],
      "metadata": {
        "id": "FnPaN2RoCJ53"
      },
      "execution_count": null,
      "outputs": []
    }
  ]
}