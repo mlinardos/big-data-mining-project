{
  "nbformat": 4,
  "nbformat_minor": 0,
  "metadata": {
    "colab": {
      "provenance": [],
      "machine_shape": "hm",
      "gpuType": "L4"
    },
    "kernelspec": {
      "name": "python3",
      "display_name": "Python 3"
    },
    "language_info": {
      "name": "python"
    },
    "accelerator": "GPU"
  },
  "cells": [
    {
      "cell_type": "code",
      "source": [
        "from google.colab import drive\n",
        "drive.mount('/content/drive')"
      ],
      "metadata": {
        "colab": {
          "base_uri": "https://localhost:8080/"
        },
        "id": "vEcau4v8T8xH",
        "outputId": "00b39217-216d-4616-e132-237aef0bdbb4"
      },
      "execution_count": 1,
      "outputs": [
        {
          "output_type": "stream",
          "name": "stdout",
          "text": [
            "Mounted at /content/drive\n"
          ]
        }
      ]
    },
    {
      "cell_type": "code",
      "source": [
        "import numpy as np\n",
        "import pandas as pd\n",
        "import ast\n",
        "import time"
      ],
      "metadata": {
        "id": "VPLbsXCzwvN3"
      },
      "execution_count": 2,
      "outputs": []
    },
    {
      "cell_type": "code",
      "source": [
        "data_path = '/content/drive/My Drive/big-data-analytics-2025/dtw_test.csv'\n",
        "source_df = pd.read_csv(data_path)"
      ],
      "metadata": {
        "id": "ag8lxyuzUIrt"
      },
      "execution_count": 3,
      "outputs": []
    },
    {
      "cell_type": "code",
      "source": [
        "\n",
        "def dtw(x, y):\n",
        "\n",
        "    x = np.array(x)\n",
        "    y = np.array(y)\n",
        "\n",
        "    n = len(x)\n",
        "    m = len(y)\n",
        "\n",
        "    dtw_matrix = np.full((n + 1, m + 1), np.inf)\n",
        "\n",
        "    dtw_matrix[0, 0] = 0\n",
        "\n",
        "    for i in range(1, n + 1):\n",
        "        for j in range(1, m + 1):\n",
        "            cost = np.linalg.norm(x[i-1] - y[j-1])\n",
        "            prev_min = min(dtw_matrix[i-1, j], dtw_matrix[i, j-1], dtw_matrix[i-1, j-1])\n",
        "            dtw_matrix[i, j] = cost + prev_min\n",
        "\n",
        "    return dtw_matrix[n, m]\n",
        "\n"
      ],
      "metadata": {
        "id": "Ao-VFBS0WVWR"
      },
      "execution_count": 4,
      "outputs": []
    },
    {
      "cell_type": "code",
      "source": [
        "source_df['series_a'] = source_df['series_a'].apply(ast.literal_eval)\n",
        "source_df['series_b'] = source_df['series_b'].apply(ast.literal_eval)"
      ],
      "metadata": {
        "id": "tuTyo4exeHgZ"
      },
      "execution_count": 5,
      "outputs": []
    },
    {
      "cell_type": "code",
      "source": [
        "\n",
        "\n",
        "start_time = time.time()\n",
        "dtw_distances = []\n",
        "for idx, row in source_df.iterrows():\n",
        "    dtw_distance = dtw(row['series_a'], row['series_b'])\n",
        "    dtw_distances.append(dtw_distance)\n",
        "\n",
        "end_time = time.time()\n",
        "source_df['DTW distance'] = dtw_distances\n",
        "\n",
        "total_time_minutes = (end_time - start_time) / 60\n",
        "avg_time_per_pair_minutes = total_time_minutes / len(source_df)\n",
        "\n",
        "print(f\"Total execution time: {total_time_minutes:.2f} minutes\")\n",
        "print(f\"Average time per pair: {avg_time_per_pair_minutes:.4f} minutes\")\n",
        "print(f\"Number of pairs processed: {len(source_df)}\")\n",
        "\n",
        "print(\"\\nFirst few results:\")\n",
        "print(source_df[['id', 'DTW distance']].head())"
      ],
      "metadata": {
        "colab": {
          "base_uri": "https://localhost:8080/"
        },
        "id": "O6vN5n_dqu5H",
        "outputId": "bd519f38-6f1e-4307-db73-70d66232ed8f"
      },
      "execution_count": 6,
      "outputs": [
        {
          "output_type": "stream",
          "name": "stdout",
          "text": [
            "Total execution time: 47.09 minutes\n",
            "Average time per pair: 0.0470 minutes\n",
            "Number of pairs processed: 1002\n",
            "\n",
            "First few results:\n",
            "   id  DTW distance\n",
            "0   0       18.8752\n",
            "1   1       16.4397\n",
            "2   2       12.0723\n",
            "3   3       17.0150\n",
            "4   4        8.7369\n"
          ]
        }
      ]
    },
    {
      "cell_type": "code",
      "source": [
        "source_df[['id', 'DTW distance']].to_csv('dtw.csv', index=False)"
      ],
      "metadata": {
        "id": "Irax2AXyjE0_"
      },
      "execution_count": 7,
      "outputs": []
    },
    {
      "cell_type": "code",
      "source": [
        "source_df[['id', 'DTW distance']].to_csv('/content/drive/My Drive/dtw.csv', index=False)"
      ],
      "metadata": {
        "id": "N32ChklcNwPM"
      },
      "execution_count": 8,
      "outputs": []
    }
  ]
}