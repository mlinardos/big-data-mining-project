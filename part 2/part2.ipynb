{
  "cells": [
    {
      "cell_type": "code",
      "execution_count": 1,
      "metadata": {
        "colab": {
          "base_uri": "https://localhost:8080/"
        },
        "id": "Zmz_eqBYlNFu",
        "outputId": "5ecc6da5-2a53-4804-bb0d-14aa04aba272"
      },
      "outputs": [
        {
          "output_type": "stream",
          "name": "stdout",
          "text": [
            "Mounted at /content/drive\n"
          ]
        }
      ],
      "source": [
        "from google.colab import drive\n",
        "drive.mount('/content/drive')"
      ]
    },
    {
      "cell_type": "code",
      "execution_count": 2,
      "metadata": {
        "colab": {
          "base_uri": "https://localhost:8080/"
        },
        "id": "admFXvoS7nhE",
        "outputId": "3b8bdadd-1a13-46b7-e5dd-6d45ed10c327"
      },
      "outputs": [
        {
          "output_type": "stream",
          "name": "stdout",
          "text": [
            "Collecting datasketch\n",
            "  Downloading datasketch-1.6.5-py3-none-any.whl.metadata (5.8 kB)\n",
            "Requirement already satisfied: numpy>=1.11 in /usr/local/lib/python3.11/dist-packages (from datasketch) (1.26.4)\n",
            "Requirement already satisfied: scipy>=1.0.0 in /usr/local/lib/python3.11/dist-packages (from datasketch) (1.13.1)\n",
            "Downloading datasketch-1.6.5-py3-none-any.whl (89 kB)\n",
            "\u001b[?25l   \u001b[90m━━━━━━━━━━━━━━━━━━━━━━━━━━━━━━━━━━━━━━━━\u001b[0m \u001b[32m0.0/89.2 kB\u001b[0m \u001b[31m?\u001b[0m eta \u001b[36m-:--:--\u001b[0m\r\u001b[2K   \u001b[90m━━━━━━━━━━━━━━━━━━━━━━━━━━━━━━━━━━━━━━━━\u001b[0m \u001b[32m89.2/89.2 kB\u001b[0m \u001b[31m8.5 MB/s\u001b[0m eta \u001b[36m0:00:00\u001b[0m\n",
            "\u001b[?25hInstalling collected packages: datasketch\n",
            "Successfully installed datasketch-1.6.5\n"
          ]
        }
      ],
      "source": [
        "!pip install datasketch"
      ]
    },
    {
      "cell_type": "code",
      "execution_count": 3,
      "metadata": {
        "id": "cakwzIhIrZcr"
      },
      "outputs": [],
      "source": [
        "import pandas as pd\n",
        "from sklearn.feature_extraction.text import CountVectorizer\n",
        "import numpy as np\n",
        "from sklearn.neighbors import KNeighborsClassifier\n",
        "import time\n",
        "from datasketch import MinHash, MinHashLSH\n",
        "import re\n",
        "from nltk.tokenize import word_tokenize\n",
        "from nltk.corpus import stopwords\n",
        "from nltk.stem import WordNetLemmatizer\n",
        "import nltk"
      ]
    },
    {
      "cell_type": "code",
      "execution_count": 4,
      "metadata": {
        "id": "7MDxiW_eraEs"
      },
      "outputs": [],
      "source": [
        "train_path = '/content/drive/My Drive/big-data-analytics-2025/train.csv'\n",
        "test_path = '/content/drive/My Drive/big-data-analytics-2025/test_without_labels.csv'"
      ]
    },
    {
      "cell_type": "code",
      "execution_count": 5,
      "metadata": {
        "id": "BpRXqPKvrstp"
      },
      "outputs": [],
      "source": [
        "train_df = pd.read_csv(train_path)\n",
        "test_df  = pd.read_csv(test_path)"
      ]
    },
    {
      "cell_type": "code",
      "execution_count": 6,
      "metadata": {
        "colab": {
          "base_uri": "https://localhost:8080/",
          "height": 206
        },
        "id": "qlKCKGikr71x",
        "outputId": "267f16b1-f8cf-462b-b7db-0abe33ca996b"
      },
      "outputs": [
        {
          "output_type": "execute_result",
          "data": {
            "text/plain": [
              "       Id                                              Title  \\\n",
              "0  227464  Netflix is coming to cable boxes, and Amazon i...   \n",
              "1  244074  Pharrell, Iranian President React to Tehran 'H...   \n",
              "2   60707                    Wildlife service seeks comments   \n",
              "3   27883  Facebook teams up with Storyful to launch 'FB ...   \n",
              "4  169596           Caesars plans US$880 mln New York casino   \n",
              "\n",
              "                                             Content          Label  \n",
              "0   if you subscribe to one of three rinky-dink (...  Entertainment  \n",
              "1   pharrell, iranian president react to tehran '...  Entertainment  \n",
              "2   the u.s. fish and wildlife service has reopen...     Technology  \n",
              "3   the very nature of social media means it is o...     Technology  \n",
              "4   caesars plans us$880 mln new york casino jul ...       Business  "
            ],
            "text/html": [
              "\n",
              "  <div id=\"df-11dbc7a9-3180-4708-97d6-3638919bbd11\" class=\"colab-df-container\">\n",
              "    <div>\n",
              "<style scoped>\n",
              "    .dataframe tbody tr th:only-of-type {\n",
              "        vertical-align: middle;\n",
              "    }\n",
              "\n",
              "    .dataframe tbody tr th {\n",
              "        vertical-align: top;\n",
              "    }\n",
              "\n",
              "    .dataframe thead th {\n",
              "        text-align: right;\n",
              "    }\n",
              "</style>\n",
              "<table border=\"1\" class=\"dataframe\">\n",
              "  <thead>\n",
              "    <tr style=\"text-align: right;\">\n",
              "      <th></th>\n",
              "      <th>Id</th>\n",
              "      <th>Title</th>\n",
              "      <th>Content</th>\n",
              "      <th>Label</th>\n",
              "    </tr>\n",
              "  </thead>\n",
              "  <tbody>\n",
              "    <tr>\n",
              "      <th>0</th>\n",
              "      <td>227464</td>\n",
              "      <td>Netflix is coming to cable boxes, and Amazon i...</td>\n",
              "      <td>if you subscribe to one of three rinky-dink (...</td>\n",
              "      <td>Entertainment</td>\n",
              "    </tr>\n",
              "    <tr>\n",
              "      <th>1</th>\n",
              "      <td>244074</td>\n",
              "      <td>Pharrell, Iranian President React to Tehran 'H...</td>\n",
              "      <td>pharrell, iranian president react to tehran '...</td>\n",
              "      <td>Entertainment</td>\n",
              "    </tr>\n",
              "    <tr>\n",
              "      <th>2</th>\n",
              "      <td>60707</td>\n",
              "      <td>Wildlife service seeks comments</td>\n",
              "      <td>the u.s. fish and wildlife service has reopen...</td>\n",
              "      <td>Technology</td>\n",
              "    </tr>\n",
              "    <tr>\n",
              "      <th>3</th>\n",
              "      <td>27883</td>\n",
              "      <td>Facebook teams up with Storyful to launch 'FB ...</td>\n",
              "      <td>the very nature of social media means it is o...</td>\n",
              "      <td>Technology</td>\n",
              "    </tr>\n",
              "    <tr>\n",
              "      <th>4</th>\n",
              "      <td>169596</td>\n",
              "      <td>Caesars plans US$880 mln New York casino</td>\n",
              "      <td>caesars plans us$880 mln new york casino jul ...</td>\n",
              "      <td>Business</td>\n",
              "    </tr>\n",
              "  </tbody>\n",
              "</table>\n",
              "</div>\n",
              "    <div class=\"colab-df-buttons\">\n",
              "\n",
              "  <div class=\"colab-df-container\">\n",
              "    <button class=\"colab-df-convert\" onclick=\"convertToInteractive('df-11dbc7a9-3180-4708-97d6-3638919bbd11')\"\n",
              "            title=\"Convert this dataframe to an interactive table.\"\n",
              "            style=\"display:none;\">\n",
              "\n",
              "  <svg xmlns=\"http://www.w3.org/2000/svg\" height=\"24px\" viewBox=\"0 -960 960 960\">\n",
              "    <path d=\"M120-120v-720h720v720H120Zm60-500h600v-160H180v160Zm220 220h160v-160H400v160Zm0 220h160v-160H400v160ZM180-400h160v-160H180v160Zm440 0h160v-160H620v160ZM180-180h160v-160H180v160Zm440 0h160v-160H620v160Z\"/>\n",
              "  </svg>\n",
              "    </button>\n",
              "\n",
              "  <style>\n",
              "    .colab-df-container {\n",
              "      display:flex;\n",
              "      gap: 12px;\n",
              "    }\n",
              "\n",
              "    .colab-df-convert {\n",
              "      background-color: #E8F0FE;\n",
              "      border: none;\n",
              "      border-radius: 50%;\n",
              "      cursor: pointer;\n",
              "      display: none;\n",
              "      fill: #1967D2;\n",
              "      height: 32px;\n",
              "      padding: 0 0 0 0;\n",
              "      width: 32px;\n",
              "    }\n",
              "\n",
              "    .colab-df-convert:hover {\n",
              "      background-color: #E2EBFA;\n",
              "      box-shadow: 0px 1px 2px rgba(60, 64, 67, 0.3), 0px 1px 3px 1px rgba(60, 64, 67, 0.15);\n",
              "      fill: #174EA6;\n",
              "    }\n",
              "\n",
              "    .colab-df-buttons div {\n",
              "      margin-bottom: 4px;\n",
              "    }\n",
              "\n",
              "    [theme=dark] .colab-df-convert {\n",
              "      background-color: #3B4455;\n",
              "      fill: #D2E3FC;\n",
              "    }\n",
              "\n",
              "    [theme=dark] .colab-df-convert:hover {\n",
              "      background-color: #434B5C;\n",
              "      box-shadow: 0px 1px 3px 1px rgba(0, 0, 0, 0.15);\n",
              "      filter: drop-shadow(0px 1px 2px rgba(0, 0, 0, 0.3));\n",
              "      fill: #FFFFFF;\n",
              "    }\n",
              "  </style>\n",
              "\n",
              "    <script>\n",
              "      const buttonEl =\n",
              "        document.querySelector('#df-11dbc7a9-3180-4708-97d6-3638919bbd11 button.colab-df-convert');\n",
              "      buttonEl.style.display =\n",
              "        google.colab.kernel.accessAllowed ? 'block' : 'none';\n",
              "\n",
              "      async function convertToInteractive(key) {\n",
              "        const element = document.querySelector('#df-11dbc7a9-3180-4708-97d6-3638919bbd11');\n",
              "        const dataTable =\n",
              "          await google.colab.kernel.invokeFunction('convertToInteractive',\n",
              "                                                    [key], {});\n",
              "        if (!dataTable) return;\n",
              "\n",
              "        const docLinkHtml = 'Like what you see? Visit the ' +\n",
              "          '<a target=\"_blank\" href=https://colab.research.google.com/notebooks/data_table.ipynb>data table notebook</a>'\n",
              "          + ' to learn more about interactive tables.';\n",
              "        element.innerHTML = '';\n",
              "        dataTable['output_type'] = 'display_data';\n",
              "        await google.colab.output.renderOutput(dataTable, element);\n",
              "        const docLink = document.createElement('div');\n",
              "        docLink.innerHTML = docLinkHtml;\n",
              "        element.appendChild(docLink);\n",
              "      }\n",
              "    </script>\n",
              "  </div>\n",
              "\n",
              "\n",
              "<div id=\"df-7e9bacc4-6622-4a19-a2e5-b804dcbbda2e\">\n",
              "  <button class=\"colab-df-quickchart\" onclick=\"quickchart('df-7e9bacc4-6622-4a19-a2e5-b804dcbbda2e')\"\n",
              "            title=\"Suggest charts\"\n",
              "            style=\"display:none;\">\n",
              "\n",
              "<svg xmlns=\"http://www.w3.org/2000/svg\" height=\"24px\"viewBox=\"0 0 24 24\"\n",
              "     width=\"24px\">\n",
              "    <g>\n",
              "        <path d=\"M19 3H5c-1.1 0-2 .9-2 2v14c0 1.1.9 2 2 2h14c1.1 0 2-.9 2-2V5c0-1.1-.9-2-2-2zM9 17H7v-7h2v7zm4 0h-2V7h2v10zm4 0h-2v-4h2v4z\"/>\n",
              "    </g>\n",
              "</svg>\n",
              "  </button>\n",
              "\n",
              "<style>\n",
              "  .colab-df-quickchart {\n",
              "      --bg-color: #E8F0FE;\n",
              "      --fill-color: #1967D2;\n",
              "      --hover-bg-color: #E2EBFA;\n",
              "      --hover-fill-color: #174EA6;\n",
              "      --disabled-fill-color: #AAA;\n",
              "      --disabled-bg-color: #DDD;\n",
              "  }\n",
              "\n",
              "  [theme=dark] .colab-df-quickchart {\n",
              "      --bg-color: #3B4455;\n",
              "      --fill-color: #D2E3FC;\n",
              "      --hover-bg-color: #434B5C;\n",
              "      --hover-fill-color: #FFFFFF;\n",
              "      --disabled-bg-color: #3B4455;\n",
              "      --disabled-fill-color: #666;\n",
              "  }\n",
              "\n",
              "  .colab-df-quickchart {\n",
              "    background-color: var(--bg-color);\n",
              "    border: none;\n",
              "    border-radius: 50%;\n",
              "    cursor: pointer;\n",
              "    display: none;\n",
              "    fill: var(--fill-color);\n",
              "    height: 32px;\n",
              "    padding: 0;\n",
              "    width: 32px;\n",
              "  }\n",
              "\n",
              "  .colab-df-quickchart:hover {\n",
              "    background-color: var(--hover-bg-color);\n",
              "    box-shadow: 0 1px 2px rgba(60, 64, 67, 0.3), 0 1px 3px 1px rgba(60, 64, 67, 0.15);\n",
              "    fill: var(--button-hover-fill-color);\n",
              "  }\n",
              "\n",
              "  .colab-df-quickchart-complete:disabled,\n",
              "  .colab-df-quickchart-complete:disabled:hover {\n",
              "    background-color: var(--disabled-bg-color);\n",
              "    fill: var(--disabled-fill-color);\n",
              "    box-shadow: none;\n",
              "  }\n",
              "\n",
              "  .colab-df-spinner {\n",
              "    border: 2px solid var(--fill-color);\n",
              "    border-color: transparent;\n",
              "    border-bottom-color: var(--fill-color);\n",
              "    animation:\n",
              "      spin 1s steps(1) infinite;\n",
              "  }\n",
              "\n",
              "  @keyframes spin {\n",
              "    0% {\n",
              "      border-color: transparent;\n",
              "      border-bottom-color: var(--fill-color);\n",
              "      border-left-color: var(--fill-color);\n",
              "    }\n",
              "    20% {\n",
              "      border-color: transparent;\n",
              "      border-left-color: var(--fill-color);\n",
              "      border-top-color: var(--fill-color);\n",
              "    }\n",
              "    30% {\n",
              "      border-color: transparent;\n",
              "      border-left-color: var(--fill-color);\n",
              "      border-top-color: var(--fill-color);\n",
              "      border-right-color: var(--fill-color);\n",
              "    }\n",
              "    40% {\n",
              "      border-color: transparent;\n",
              "      border-right-color: var(--fill-color);\n",
              "      border-top-color: var(--fill-color);\n",
              "    }\n",
              "    60% {\n",
              "      border-color: transparent;\n",
              "      border-right-color: var(--fill-color);\n",
              "    }\n",
              "    80% {\n",
              "      border-color: transparent;\n",
              "      border-right-color: var(--fill-color);\n",
              "      border-bottom-color: var(--fill-color);\n",
              "    }\n",
              "    90% {\n",
              "      border-color: transparent;\n",
              "      border-bottom-color: var(--fill-color);\n",
              "    }\n",
              "  }\n",
              "</style>\n",
              "\n",
              "  <script>\n",
              "    async function quickchart(key) {\n",
              "      const quickchartButtonEl =\n",
              "        document.querySelector('#' + key + ' button');\n",
              "      quickchartButtonEl.disabled = true;  // To prevent multiple clicks.\n",
              "      quickchartButtonEl.classList.add('colab-df-spinner');\n",
              "      try {\n",
              "        const charts = await google.colab.kernel.invokeFunction(\n",
              "            'suggestCharts', [key], {});\n",
              "      } catch (error) {\n",
              "        console.error('Error during call to suggestCharts:', error);\n",
              "      }\n",
              "      quickchartButtonEl.classList.remove('colab-df-spinner');\n",
              "      quickchartButtonEl.classList.add('colab-df-quickchart-complete');\n",
              "    }\n",
              "    (() => {\n",
              "      let quickchartButtonEl =\n",
              "        document.querySelector('#df-7e9bacc4-6622-4a19-a2e5-b804dcbbda2e button');\n",
              "      quickchartButtonEl.style.display =\n",
              "        google.colab.kernel.accessAllowed ? 'block' : 'none';\n",
              "    })();\n",
              "  </script>\n",
              "</div>\n",
              "\n",
              "    </div>\n",
              "  </div>\n"
            ],
            "application/vnd.google.colaboratory.intrinsic+json": {
              "type": "dataframe",
              "variable_name": "train_df"
            }
          },
          "metadata": {},
          "execution_count": 6
        }
      ],
      "source": [
        "train_df.head()"
      ]
    },
    {
      "cell_type": "markdown",
      "metadata": {
        "id": "_AerNGxPsTlO"
      },
      "source": [
        "Data Preprocessing"
      ]
    },
    {
      "cell_type": "code",
      "source": [
        "small_train_df = train_df.sample(frac=0.4, random_state=42)\n",
        "small_test_df = test_df.sample(frac=0.4, random_state=42)\n",
        "train_df = small_train_df\n",
        "test_df = small_test_df"
      ],
      "metadata": {
        "id": "bkA9K8qPFpTt"
      },
      "execution_count": 7,
      "outputs": []
    },
    {
      "cell_type": "code",
      "source": [
        "print(train_df.shape)\n",
        "print(test_df.shape)"
      ],
      "metadata": {
        "colab": {
          "base_uri": "https://localhost:8080/"
        },
        "id": "MlnNg7WzF6R3",
        "outputId": "e8f237dd-2afd-437c-93d1-5919b4d91b7b"
      },
      "execution_count": 8,
      "outputs": [
        {
          "output_type": "stream",
          "name": "stdout",
          "text": [
            "(44718, 4)\n",
            "(19165, 3)\n"
          ]
        }
      ]
    },
    {
      "cell_type": "code",
      "execution_count": 9,
      "metadata": {
        "colab": {
          "base_uri": "https://localhost:8080/"
        },
        "id": "7w-2YHVO8LSn",
        "outputId": "b90ddb23-7ebb-4c17-d121-e700385aceed"
      },
      "outputs": [
        {
          "output_type": "stream",
          "name": "stderr",
          "text": [
            "[nltk_data] Downloading package stopwords to /root/nltk_data...\n",
            "[nltk_data]   Unzipping corpora/stopwords.zip.\n",
            "[nltk_data] Downloading package punkt_tab to /root/nltk_data...\n",
            "[nltk_data]   Unzipping tokenizers/punkt_tab.zip.\n",
            "[nltk_data] Downloading package wordnet to /root/nltk_data...\n"
          ]
        }
      ],
      "source": [
        "nltk.download('stopwords')\n",
        "nltk.download('punkt_tab')\n",
        "nltk.download('wordnet')\n",
        "lemmatizer = WordNetLemmatizer()\n",
        "stop_words = set(stopwords.words('english'))"
      ]
    },
    {
      "cell_type": "code",
      "execution_count": 10,
      "metadata": {
        "id": "N5GwD7X4sg2O"
      },
      "outputs": [],
      "source": [
        "def process_text(text):\n",
        "    text = text.lower()\n",
        "    text = re.sub(r'http\\S+|www\\S+', ' ', text)\n",
        "    text = re.sub(r'([.,!?()])', r' \\1 ', text)\n",
        "    text = re.sub(r'\\s+', ' ', text)\n",
        "    text = re.sub(r'[^a-zA-Z\\s]', ' ', text)\n",
        "    tokens = word_tokenize(text)\n",
        "    tokens = [lemmatizer.lemmatize(token)\n",
        "             for token in tokens\n",
        "             if token not in stop_words and len(token) > 2]\n",
        "    return ' '.join(tokens)"
      ]
    },
    {
      "cell_type": "code",
      "execution_count": 11,
      "metadata": {
        "id": "KoBdc_3mhXxR"
      },
      "outputs": [],
      "source": [
        "from sklearn.preprocessing import LabelEncoder\n",
        "from sklearn.feature_extraction.text import CountVectorizer\n",
        "\n",
        "train_titles = train_df['Title'].apply(process_text)\n",
        "train_content = train_df['Content'].apply(process_text)\n",
        "train_text = train_titles + \" \" + train_content\n",
        "\n",
        "test_titles = test_df['Title'].apply(process_text)\n",
        "test_content = test_df['Content'].apply(process_text)\n",
        "test_text = test_titles + \" \" + test_content\n",
        "\n",
        "vectorizer = CountVectorizer(binary=True,max_features=5000)\n",
        "\n",
        "\n",
        "train_vectors = vectorizer.fit_transform(train_text)\n",
        "test_vectors = vectorizer.transform(test_text)\n",
        "train_labels =  train_df['Label'].tolist()\n",
        "\n",
        "\n",
        "train_vectors_array = train_vectors.toarray()\n",
        "test_vectors_array = test_vectors.toarray()"
      ]
    },
    {
      "cell_type": "code",
      "execution_count": 12,
      "metadata": {
        "id": "vDjqOrrk9vah"
      },
      "outputs": [],
      "source": [
        "def my_jaccard(vec1, vec2):\n",
        "    intersection = np.logical_and(vec1, vec2).sum()\n",
        "    union = np.logical_or(vec1, vec2).sum()\n",
        "    return 1 - (intersection/union if union != 0 else 0)"
      ]
    },
    {
      "cell_type": "code",
      "execution_count": 13,
      "metadata": {
        "id": "LQVa16JuQXqA"
      },
      "outputs": [],
      "source": [
        "def compute_minhash_signature(vec, num_permutations):\n",
        "    minhash = MinHash(num_perm=num_permutations)\n",
        "    nonzero_elements = vec.nonzero()[1]\n",
        "    for element in nonzero_elements:\n",
        "        minhash.update(f\"{element}\".encode('utf8'))\n",
        "    return minhash"
      ]
    },
    {
      "cell_type": "code",
      "source": [
        "def initialize_lsh_index(training_vectors, num_permutations, threshold):\n",
        "    start = time.time()\n",
        "    lsh_index = MinHashLSH(threshold=threshold, num_perm=num_permutations)\n",
        "\n",
        "    for doc_idx in range(training_vectors.shape[0]):\n",
        "        signature = compute_minhash_signature(training_vectors[doc_idx], num_permutations)\n",
        "        lsh_index.insert(str(doc_idx), signature)\n",
        "\n",
        "    build_time = (time.time() - start) / 60\n",
        "    return lsh_index, build_time"
      ],
      "metadata": {
        "id": "enjervfbVYXr"
      },
      "execution_count": 14,
      "outputs": []
    },
    {
      "cell_type": "code",
      "execution_count": 15,
      "metadata": {
        "id": "BBLc5WW4QmAi"
      },
      "outputs": [],
      "source": [
        "def search_similar_vectors(query_vec, lsh_index, training_data, num_permutations, k=7):\n",
        "    query_signature = compute_minhash_signature(query_vec, num_permutations)\n",
        "    candidate_matches = lsh_index.query(query_signature)\n",
        "    candidate_indices = [int(idx) for idx in candidate_matches]\n",
        "\n",
        "    if candidate_indices:\n",
        "        similarities = []\n",
        "        query_array = query_vec.toarray()[0]\n",
        "        for idx in candidate_indices:\n",
        "            intersection = np.logical_and(query_array, training_data[idx]).sum()\n",
        "            union = np.logical_or(query_array, training_data[idx]).sum()\n",
        "            jaccard_sim = intersection/union if union != 0 else 0\n",
        "            similarities.append((idx, jaccard_sim))\n",
        "\n",
        "        return [idx for idx, sim in sorted(similarities, key=lambda x: x[1], reverse=True)[:k]]\n",
        "    return []"
      ]
    },
    {
      "cell_type": "code",
      "execution_count": 16,
      "metadata": {
        "id": "wLB_W4x1QoP6"
      },
      "outputs": [],
      "source": [
        "def calculate_accuracy(lsh_results, true_neighbors, k=7):\n",
        "    correct = 0\n",
        "    total = 0\n",
        "    for lsh_nn, actual_nn in zip(lsh_results, true_neighbors):\n",
        "        if lsh_nn:\n",
        "            correct += len(set(lsh_nn) & set(actual_nn))\n",
        "            total += k\n",
        "    return correct / total if total > 0 else 0"
      ]
    },
    {
      "cell_type": "code",
      "source": [
        "def run_lsh_experiment(train_vectors, train_vectors_array, test_vectors, true_neighbors, num_permutations, threshold):\n",
        "    print(f\"\\nRunning experiment with {num_permutations} permutations...\")\n",
        "\n",
        "    # Build index\n",
        "    lsh_index, build_time = initialize_lsh_index(train_vectors, num_permutations,threshold)\n",
        "\n",
        "    # Query phase\n",
        "    query_start = time.time()\n",
        "    lsh_results = []\n",
        "    empty_queries = 0\n",
        "\n",
        "    for i in range(test_vectors.shape[0]):\n",
        "        top_k = search_similar_vectors(test_vectors[i], lsh_index, train_vectors_array, num_permutations)\n",
        "        if not top_k:\n",
        "            empty_queries += 1\n",
        "        lsh_results.append(top_k)\n",
        "\n",
        "    query_time = (time.time() - query_start) / 60\n",
        "\n",
        "    # Calculate accuracy\n",
        "    accuracy = calculate_accuracy(lsh_results, true_neighbors)\n",
        "\n",
        "    return {\n",
        "        'num_permutations': num_permutations,\n",
        "        'build_time': build_time,\n",
        "        'query_time': query_time,\n",
        "        'total_time': build_time + query_time,\n",
        "        'accuracy': accuracy\n",
        "    }\n"
      ],
      "metadata": {
        "id": "JlTOyoFsGw7Y"
      },
      "execution_count": 17,
      "outputs": []
    },
    {
      "cell_type": "code",
      "source": [
        "\n",
        "permutations = [16, 32, 64]\n",
        "thresholds = [0.9, 0.8, 0.7, 0.6]\n",
        "all_results = []\n",
        "\n",
        "# Get ground truth using brute force\n",
        "print(\"Computing ground truth using brute force...\")\n",
        "brute_force_start = time.time()\n",
        "knn = KNeighborsClassifier(n_neighbors=7, algorithm='brute', metric=my_jaccard)\n",
        "knn.fit(train_vectors_array, train_labels)\n",
        "true_neighbors = knn.kneighbors(test_vectors_array, return_distance=False)\n",
        "brute_force_time = (time.time() - brute_force_start) / 60\n",
        "print(f\"Brute Force Time: {brute_force_time:.2f} minutes\")\n",
        "\n",
        "# Run LSH experiments for each threshold\n",
        "for threshold in thresholds:\n",
        "    print(f\"\\nTesting threshold {threshold}\")\n",
        "    threshold_results = []\n",
        "\n",
        "    for num_perm in permutations:\n",
        "        try:\n",
        "            result = run_lsh_experiment(train_vectors, train_vectors_array, test_vectors,\n",
        "                                      true_neighbors, num_perm, threshold)\n",
        "            result['threshold'] = threshold\n",
        "            threshold_results.append(result)\n",
        "        except ValueError as e:\n",
        "            print(f\"\\nError with {num_perm} permutations and threshold {threshold}: {e}\")\n",
        "            continue\n",
        "\n",
        "    if threshold_results:\n",
        "        all_results.extend(threshold_results)\n"
      ],
      "metadata": {
        "colab": {
          "base_uri": "https://localhost:8080/"
        },
        "id": "MmyJyWUGGYNJ",
        "outputId": "7e73c97a-844d-42f2-ea18-01f299b47501"
      },
      "execution_count": 18,
      "outputs": [
        {
          "output_type": "stream",
          "name": "stdout",
          "text": [
            "Computing ground truth using brute force...\n",
            "Brute Force Time: 274.76 minutes\n",
            "\n",
            "Testing threshold 0.9\n",
            "\n",
            "Running experiment with 16 permutations...\n",
            "\n",
            "Error with 16 permutations and threshold 0.9: The number of bands are too small (b < 2)\n",
            "\n",
            "Running experiment with 32 permutations...\n",
            "\n",
            "Running experiment with 64 permutations...\n",
            "\n",
            "Testing threshold 0.8\n",
            "\n",
            "Running experiment with 16 permutations...\n",
            "\n",
            "Running experiment with 32 permutations...\n",
            "\n",
            "Running experiment with 64 permutations...\n",
            "\n",
            "Testing threshold 0.7\n",
            "\n",
            "Running experiment with 16 permutations...\n",
            "\n",
            "Running experiment with 32 permutations...\n",
            "\n",
            "Running experiment with 64 permutations...\n",
            "\n",
            "Testing threshold 0.6\n",
            "\n",
            "Running experiment with 16 permutations...\n",
            "\n",
            "Running experiment with 32 permutations...\n",
            "\n",
            "Running experiment with 64 permutations...\n"
          ]
        }
      ]
    },
    {
      "cell_type": "code",
      "source": [
        "for result in all_results:\n",
        "    print(f\"\\nThreshold: {result['threshold']}\")\n",
        "    print(f\"Permutations: {result['num_permutations']}\")\n",
        "    print(f\"Build Time: {result['build_time']:.2f} minutes\")\n",
        "    print(f\"Query Time: {result['query_time']:.2f} minutes\")\n",
        "    print(f\"Total Time: {result['total_time']:.2f} minutes\")\n",
        "    print(f\"Accuracy: {result['accuracy']:.2%}\")"
      ],
      "metadata": {
        "colab": {
          "base_uri": "https://localhost:8080/"
        },
        "id": "8qS1ZFzqVFKs",
        "outputId": "dc22566b-d710-4263-a010-b7eb50af609f"
      },
      "execution_count": 19,
      "outputs": [
        {
          "output_type": "stream",
          "name": "stdout",
          "text": [
            "\n",
            "Threshold: 0.9\n",
            "Permutations: 32\n",
            "Build Time: 1.72 minutes\n",
            "Query Time: 0.72 minutes\n",
            "Total Time: 2.44 minutes\n",
            "Accuracy: 19.10%\n",
            "\n",
            "Threshold: 0.9\n",
            "Permutations: 64\n",
            "Build Time: 1.92 minutes\n",
            "Query Time: 0.81 minutes\n",
            "Total Time: 2.73 minutes\n",
            "Accuracy: 19.23%\n",
            "\n",
            "Threshold: 0.8\n",
            "Permutations: 16\n",
            "Build Time: 1.61 minutes\n",
            "Query Time: 0.68 minutes\n",
            "Total Time: 2.29 minutes\n",
            "Accuracy: 20.72%\n",
            "\n",
            "Threshold: 0.8\n",
            "Permutations: 32\n",
            "Build Time: 1.72 minutes\n",
            "Query Time: 0.72 minutes\n",
            "Total Time: 2.44 minutes\n",
            "Accuracy: 20.54%\n",
            "\n",
            "Threshold: 0.8\n",
            "Permutations: 64\n",
            "Build Time: 1.92 minutes\n",
            "Query Time: 0.80 minutes\n",
            "Total Time: 2.72 minutes\n",
            "Accuracy: 21.14%\n",
            "\n",
            "Threshold: 0.7\n",
            "Permutations: 16\n",
            "Build Time: 1.62 minutes\n",
            "Query Time: 0.68 minutes\n",
            "Total Time: 2.29 minutes\n",
            "Accuracy: 15.28%\n",
            "\n",
            "Threshold: 0.7\n",
            "Permutations: 32\n",
            "Build Time: 1.71 minutes\n",
            "Query Time: 0.72 minutes\n",
            "Total Time: 2.43 minutes\n",
            "Accuracy: 20.09%\n",
            "\n",
            "Threshold: 0.7\n",
            "Permutations: 64\n",
            "Build Time: 1.91 minutes\n",
            "Query Time: 0.80 minutes\n",
            "Total Time: 2.71 minutes\n",
            "Accuracy: 22.48%\n",
            "\n",
            "Threshold: 0.6\n",
            "Permutations: 16\n",
            "Build Time: 1.63 minutes\n",
            "Query Time: 0.69 minutes\n",
            "Total Time: 2.32 minutes\n",
            "Accuracy: 8.45%\n",
            "\n",
            "Threshold: 0.6\n",
            "Permutations: 32\n",
            "Build Time: 1.72 minutes\n",
            "Query Time: 0.72 minutes\n",
            "Total Time: 2.44 minutes\n",
            "Accuracy: 13.03%\n",
            "\n",
            "Threshold: 0.6\n",
            "Permutations: 64\n",
            "Build Time: 1.89 minutes\n",
            "Query Time: 0.80 minutes\n",
            "Total Time: 2.69 minutes\n",
            "Accuracy: 18.97%\n"
          ]
        }
      ]
    },
    {
      "cell_type": "code",
      "execution_count": 20,
      "metadata": {
        "id": "rS5UUb18H-uu",
        "colab": {
          "base_uri": "https://localhost:8080/",
          "height": 507
        },
        "outputId": "2a9cf90b-8dda-4e3b-87b1-5909738c827a"
      },
      "outputs": [
        {
          "output_type": "display_data",
          "data": {
            "text/plain": [
              "<Figure size 1500x500 with 2 Axes>"
            ],
            "image/png": "[encoded data removed]"
          },
          "metadata": {}
        }
      ],
      "source": [
        "import matplotlib.pyplot as plt\n",
        "\n",
        "# Visualization\n",
        "plt.figure(figsize=(15, 5))\n",
        "\n",
        "# Group results by threshold\n",
        "for threshold in thresholds:\n",
        "    threshold_data = [r for r in all_results if r['threshold'] == threshold]\n",
        "    if threshold_data:\n",
        "        perm_counts = [r['num_permutations'] for r in threshold_data]\n",
        "        accuracies = [r['accuracy'] for r in threshold_data]\n",
        "        times = [r['total_time'] for r in threshold_data]\n",
        "\n",
        "        plt.subplot(1, 2, 1)\n",
        "        plt.plot(perm_counts, accuracies, 'o-', label=f'Threshold={threshold}')\n",
        "        plt.xlabel('Number of Permutations')\n",
        "        plt.ylabel('Accuracy')\n",
        "        plt.title('Accuracy vs Number of Permutations')\n",
        "        plt.grid(True)\n",
        "        plt.legend()\n",
        "\n",
        "        plt.subplot(1, 2, 2)\n",
        "        plt.plot(perm_counts, times, 'o-', label=f'Threshold={threshold}')\n",
        "        plt.xlabel('Number of Permutations')\n",
        "        plt.ylabel('Total Time (minutes)')\n",
        "        plt.title('Time vs Number of Permutations')\n",
        "        plt.grid(True)\n",
        "        plt.legend()\n",
        "\n",
        "plt.tight_layout()\n",
        "plt.show()"
      ]
    }
  ],
  "metadata": {
    "colab": {
      "machine_shape": "hm",
      "provenance": [],
      "gpuType": "L4"
    },
    "kernelspec": {
      "display_name": "Python 3",
      "name": "python3"
    },
    "language_info": {
      "name": "python"
    },
    "accelerator": "GPU"
  },
  "nbformat": 4,
  "nbformat_minor": 0
}